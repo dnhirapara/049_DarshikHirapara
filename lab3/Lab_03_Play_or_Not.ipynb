{
  "nbformat": 4,
  "nbformat_minor": 0,
  "metadata": {
    "colab": {
      "name": "Lab_03_Play_or_Not.ipynb",
      "provenance": [],
      "collapsed_sections": [],
      "authorship_tag": "ABX9TyO31jtyjeRPN7MsU9hJWgbK",
      "include_colab_link": true
    },
    "kernelspec": {
      "name": "python3",
      "display_name": "Python 3"
    },
    "language_info": {
      "name": "python"
    }
  },
  "cells": [
    {
      "cell_type": "markdown",
      "metadata": {
        "id": "view-in-github",
        "colab_type": "text"
      },
      "source": [
        "<a href=\"https://colab.research.google.com/github/dnhirapara/049_DarshikHirapara/blob/main/lab3/Lab_03_Play_or_Not.ipynb\" target=\"_parent\"><img src=\"https://colab.research.google.com/assets/colab-badge.svg\" alt=\"Open In Colab\"/></a>"
      ]
    },
    {
      "cell_type": "code",
      "metadata": {
        "colab": {
          "base_uri": "https://localhost:8080/"
        },
        "id": "Lfe5GIO5ELmd",
        "outputId": "70151301-07d7-4526-87ba-4424f81dd8e9"
      },
      "source": [
        "from google.colab import drive\n",
        "drive.mount(\"/content/drive\")"
      ],
      "execution_count": 1,
      "outputs": [
        {
          "output_type": "stream",
          "name": "stdout",
          "text": [
            "Mounted at /content/drive\n"
          ]
        }
      ]
    },
    {
      "cell_type": "code",
      "metadata": {
        "id": "SfhWOR2PEaTM"
      },
      "source": [
        "import numpy as np\n",
        "import pandas as pd\n",
        "from sklearn import datasets, preprocessing\n",
        "from sklearn.naive_bayes import GaussianNB, MultinomialNB"
      ],
      "execution_count": 3,
      "outputs": []
    },
    {
      "cell_type": "code",
      "metadata": {
        "colab": {
          "base_uri": "https://localhost:8080/"
        },
        "id": "opuZ_nBhEcgI",
        "outputId": "e2a22f8d-2c95-4954-c14d-c2514e5ad503"
      },
      "source": [
        "data_df = pd.read_csv('/content/drive/MyDrive/ML_Labs/lab3/dataset.csv')\n",
        "print(data_df.head())\n",
        "print(data_df.describe())"
      ],
      "execution_count": 5,
      "outputs": [
        {
          "output_type": "stream",
          "name": "stdout",
          "text": [
            "  Outlook Temp Humidity Wind Play\n",
            "0       R    H   Normal    F    N\n",
            "1       R    H     High    T    N\n",
            "2       O    H   Normal    F    Y\n",
            "3       S    M   Normal    F    Y\n",
            "4       S    C   Normal    F    Y\n",
            "       Outlook Temp Humidity Wind Play\n",
            "count       14   14       14   14   14\n",
            "unique       3    3        3    2    2\n",
            "top          R    M   Normal    F    Y\n",
            "freq         5    6        8    8    9\n"
          ]
        }
      ]
    },
    {
      "cell_type": "code",
      "metadata": {
        "colab": {
          "base_uri": "https://localhost:8080/"
        },
        "id": "Qwr4f_HIF5SF",
        "outputId": "118d8e9c-5861-4b2a-e5fe-2dcc2f0af7a2"
      },
      "source": [
        "le = preprocessing.LabelEncoder()\n",
        "\n",
        "# Converting string labels into numbers.\n",
        "outlook_encoded=le.fit_transform(data_df['Outlook'])\n",
        "print(\"Outlook:\" ,outlook_encoded)\n",
        "\n",
        "temp_encoded=le.fit_transform(data_df['Temp'])\n",
        "print(\"Temp:\" ,temp_encoded)\n",
        "\n",
        "humidity_encoded=le.fit_transform(data_df['Humidity'])\n",
        "print(\"Humidity:\" ,humidity_encoded)\n",
        "\n",
        "wind_encoded=le.fit_transform(data_df['Wind'])\n",
        "print(\"Wind:\" ,wind_encoded)\n",
        "\n",
        "play_encoded=le.fit_transform(data_df['Play'])\n",
        "print(\"Play:\" ,play_encoded)"
      ],
      "execution_count": 10,
      "outputs": [
        {
          "output_type": "stream",
          "name": "stdout",
          "text": [
            "Outlook: [1 1 0 2 2 2 0 1 1 2 1 0 0 2]\n",
            "Temp: [1 1 1 2 0 0 0 2 0 2 2 2 1 2]\n",
            "Humidity: [2 0 2 2 2 1 2 2 1 0 0 1 2 2]\n",
            "Wind: [0 1 0 0 0 1 1 0 0 0 1 1 0 1]\n",
            "Play: [0 0 1 1 1 0 1 0 1 1 1 1 1 0]\n"
          ]
        }
      ]
    },
    {
      "cell_type": "code",
      "metadata": {
        "colab": {
          "base_uri": "https://localhost:8080/"
        },
        "id": "BKqEBrFHF_m8",
        "outputId": "47b7daf2-f79e-4099-8b7e-be001c056e48"
      },
      "source": [
        "features = tuple(zip(outlook, temp, humidity, wind))\n",
        "print(\"Features: \", features)   "
      ],
      "execution_count": 11,
      "outputs": [
        {
          "output_type": "stream",
          "name": "stdout",
          "text": [
            "Features:  ((1, 1, 2, 0), (1, 1, 0, 1), (0, 1, 2, 0), (2, 2, 2, 0), (2, 0, 2, 0), (2, 0, 1, 1), (0, 0, 2, 1), (1, 2, 2, 0), (1, 0, 1, 0), (2, 2, 0, 0), (1, 2, 0, 1), (0, 2, 1, 1), (0, 1, 2, 0), (2, 2, 2, 1))\n"
          ]
        }
      ]
    },
    {
      "cell_type": "code",
      "metadata": {
        "colab": {
          "base_uri": "https://localhost:8080/"
        },
        "id": "vkrJYDchGCci",
        "outputId": "ceae89ae-5225-426f-860c-2fd948f4770d"
      },
      "source": [
        "model = MultinomialNB()\n",
        "\n",
        "# Train the model using the training sets\n",
        "model.fit(features, play_encoded)"
      ],
      "execution_count": 12,
      "outputs": [
        {
          "output_type": "execute_result",
          "data": {
            "text/plain": [
              "MultinomialNB(alpha=1.0, class_prior=None, fit_prior=True)"
            ]
          },
          "metadata": {},
          "execution_count": 12
        }
      ]
    },
    {
      "cell_type": "code",
      "metadata": {
        "colab": {
          "base_uri": "https://localhost:8080/"
        },
        "id": "eAXh_QubGXGQ",
        "outputId": "ee2d76c5-74a5-42e3-ad6f-0819f170e8a8"
      },
      "source": [
        "#Predict Output\n",
        "predicted= model.predict([[1,1,2,0]]) # 1:Overcast, 2:Mild\n",
        "print(\"Predicted Value:\", predicted)"
      ],
      "execution_count": 13,
      "outputs": [
        {
          "output_type": "stream",
          "name": "stdout",
          "text": [
            "Predicted Value: [1]\n"
          ]
        }
      ]
    },
    {
      "cell_type": "code",
      "metadata": {
        "colab": {
          "base_uri": "https://localhost:8080/"
        },
        "id": "x_wilY8xGZfI",
        "outputId": "8ef9a456-779e-4108-9e44-16fd79f83a45"
      },
      "source": [
        "#Predict Output\n",
        "predicted= model.predict([[1,1,0,1]]) # 0:Overcast, 2:Mild\n",
        "print(\"Predicted Value:\", predicted)"
      ],
      "execution_count": 14,
      "outputs": [
        {
          "output_type": "stream",
          "name": "stdout",
          "text": [
            "Predicted Value: [1]\n"
          ]
        }
      ]
    },
    {
      "cell_type": "code",
      "metadata": {
        "colab": {
          "base_uri": "https://localhost:8080/"
        },
        "id": "Pf3iQlnNGcIj",
        "outputId": "c08b39ef-f291-4a92-82fe-b9a0cc2bbc2c"
      },
      "source": [
        "#Predict Output\n",
        "predicted= model.predict([[0,1,2,0]]) # 0:Overcast, 2:Mild\n",
        "print(\"Predicted Value:\", predicted)"
      ],
      "execution_count": 15,
      "outputs": [
        {
          "output_type": "stream",
          "name": "stdout",
          "text": [
            "Predicted Value: [1]\n"
          ]
        }
      ]
    }
  ]
}