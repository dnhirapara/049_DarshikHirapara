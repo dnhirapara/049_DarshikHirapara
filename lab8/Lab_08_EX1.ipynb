{
  "nbformat": 4,
  "nbformat_minor": 0,
  "metadata": {
    "colab": {
      "name": "Lab_08_EX1.ipynb",
      "provenance": [],
      "authorship_tag": "ABX9TyNYTenTlAPR1l9hmcOmW6rg",
      "include_colab_link": true
    },
    "kernelspec": {
      "name": "python3",
      "display_name": "Python 3"
    },
    "language_info": {
      "name": "python"
    }
  },
  "cells": [
    {
      "cell_type": "markdown",
      "metadata": {
        "id": "view-in-github",
        "colab_type": "text"
      },
      "source": [
        "<a href=\"https://colab.research.google.com/github/dnhirapara/049_DarshikHirapara/blob/main/lab8/Lab_08_EX1.ipynb\" target=\"_parent\"><img src=\"https://colab.research.google.com/assets/colab-badge.svg\" alt=\"Open In Colab\"/></a>"
      ]
    },
    {
      "cell_type": "code",
      "metadata": {
        "id": "KSE7IU2gJ7Uo"
      },
      "source": [
        "# Import Libraries\n",
        "import numpy as np \n",
        "import pandas as pd \n",
        "from sklearn import datasets\n",
        "from sklearn.cluster import KMeans"
      ],
      "execution_count": null,
      "outputs": []
    },
    {
      "cell_type": "code",
      "metadata": {
        "colab": {
          "base_uri": "https://localhost:8080/"
        },
        "id": "CAtf4TLROomY",
        "outputId": "6873b7ac-5fd6-47d1-dd5e-7c98a1abb8eb"
      },
      "source": [
        "# Load dataset\n",
        "dataset=datasets.load_breast_cancer()\n",
        "dataset.data.shape"
      ],
      "execution_count": null,
      "outputs": [
        {
          "output_type": "execute_result",
          "data": {
            "text/plain": [
              "(569, 30)"
            ]
          },
          "metadata": {},
          "execution_count": 15
        }
      ]
    },
    {
      "cell_type": "code",
      "metadata": {
        "colab": {
          "base_uri": "https://localhost:8080/"
        },
        "id": "QZLYXtrrPCap",
        "outputId": "7ecef14a-e3a5-489f-a0bf-d0ef00802afb"
      },
      "source": [
        "# Create & train model\n",
        "kmeans = KMeans(n_clusters=10, random_state=49)\n",
        "prediction = kmeans.fit_predict(dataset.data)\n",
        "prediction"
      ],
      "execution_count": null,
      "outputs": [
        {
          "output_type": "execute_result",
          "data": {
            "text/plain": [
              "array([9, 9, 1, 0, 1, 8, 1, 8, 8, 8, 5, 4, 4, 5, 8, 5, 5, 4, 6, 8, 0, 2,\n",
              "       5, 6, 9, 4, 8, 4, 4, 4, 1, 8, 4, 9, 4, 4, 8, 0, 8, 8, 8, 0, 1, 8,\n",
              "       8, 1, 2, 8, 0, 8, 0, 8, 0, 4, 5, 0, 9, 5, 0, 2, 2, 2, 5, 2, 8, 5,\n",
              "       2, 0, 2, 0, 9, 2, 1, 8, 0, 4, 0, 1, 1, 0, 0, 0, 3, 4, 0, 1, 8, 1,\n",
              "       0, 8, 8, 8, 8, 8, 5, 9, 0, 2, 0, 8, 8, 2, 0, 2, 2, 8, 0, 0, 6, 0,\n",
              "       2, 0, 8, 2, 2, 0, 2, 5, 4, 4, 0, 1, 6, 8, 0, 8, 8, 1, 8, 1, 0, 5,\n",
              "       4, 5, 1, 0, 0, 0, 5, 2, 2, 4, 0, 0, 2, 0, 0, 8, 8, 8, 0, 2, 2, 2,\n",
              "       8, 0, 4, 5, 0, 0, 0, 1, 6, 0, 6, 8, 2, 4, 1, 8, 0, 5, 5, 2, 2, 2,\n",
              "       2, 5, 0, 0, 3, 9, 4, 0, 5, 2, 4, 0, 0, 0, 8, 0, 2, 8, 8, 0, 8, 4,\n",
              "       1, 5, 0, 4, 6, 5, 0, 5, 2, 4, 0, 5, 1, 0, 3, 5, 8, 8, 0, 2, 9, 6,\n",
              "       8, 8, 2, 5, 8, 8, 2, 8, 0, 8, 4, 0, 0, 9, 2, 8, 3, 9, 8, 4, 8, 0,\n",
              "       0, 8, 1, 2, 0, 0, 2, 0, 9, 0, 9, 4, 9, 8, 9, 5, 4, 5, 9, 4, 4, 5,\n",
              "       4, 3, 2, 8, 0, 2, 8, 0, 6, 2, 4, 0, 0, 4, 8, 8, 1, 0, 1, 5, 0, 0,\n",
              "       0, 0, 2, 0, 8, 8, 0, 0, 0, 8, 2, 0, 8, 2, 9, 0, 1, 2, 0, 0, 0, 2,\n",
              "       8, 8, 0, 8, 0, 0, 2, 0, 0, 1, 2, 0, 2, 1, 0, 9, 0, 0, 8, 0, 5, 5,\n",
              "       5, 0, 2, 0, 0, 4, 0, 9, 2, 3, 8, 2, 2, 1, 0, 2, 0, 8, 0, 0, 0, 5,\n",
              "       3, 5, 0, 0, 0, 8, 2, 2, 0, 0, 0, 5, 8, 9, 1, 0, 3, 6, 4, 8, 1, 9,\n",
              "       8, 5, 2, 8, 8, 0, 0, 2, 0, 0, 0, 8, 0, 8, 0, 4, 2, 2, 4, 6, 0, 8,\n",
              "       8, 0, 0, 0, 4, 0, 0, 0, 0, 0, 5, 0, 4, 0, 0, 0, 2, 8, 5, 0, 2, 1,\n",
              "       0, 0, 0, 8, 0, 8, 2, 2, 2, 0, 2, 0, 8, 0, 1, 1, 8, 8, 0, 8, 8, 8,\n",
              "       0, 4, 8, 2, 4, 0, 4, 8, 8, 9, 0, 1, 0, 8, 0, 8, 0, 0, 0, 2, 1, 7,\n",
              "       8, 0, 8, 8, 8, 2, 4, 0, 2, 0, 5, 0, 2, 0, 8, 8, 0, 5, 0, 8, 8, 8,\n",
              "       5, 0, 8, 1, 0, 5, 0, 4, 4, 0, 0, 8, 0, 0, 1, 9, 8, 8, 0, 3, 2, 2,\n",
              "       0, 2, 5, 5, 0, 8, 8, 8, 5, 0, 1, 1, 0, 0, 2, 3, 2, 8, 2, 2, 8, 0,\n",
              "       8, 0, 0, 0, 8, 1, 2, 9, 8, 0, 2, 2, 0, 8, 8, 0, 8, 8, 2, 2, 2, 0,\n",
              "       2, 2, 0, 2, 0, 2, 2, 2, 8, 0, 8, 2, 5, 9, 6, 1, 5, 9, 2],\n",
              "      dtype=int32)"
            ]
          },
          "metadata": {},
          "execution_count": 16
        }
      ]
    },
    {
      "cell_type": "code",
      "metadata": {
        "colab": {
          "base_uri": "https://localhost:8080/"
        },
        "id": "tmdxC6XMPDBd",
        "outputId": "09855e9a-6bf0-4808-89f5-cf975cb245f9"
      },
      "source": [
        "print(len(prediction))\n",
        "kmeans.cluster_centers_.shape"
      ],
      "execution_count": null,
      "outputs": [
        {
          "output_type": "stream",
          "name": "stdout",
          "text": [
            "569\n"
          ]
        },
        {
          "output_type": "execute_result",
          "data": {
            "text/plain": [
              "(10, 30)"
            ]
          },
          "metadata": {},
          "execution_count": 17
        }
      ]
    },
    {
      "cell_type": "code",
      "metadata": {
        "colab": {
          "base_uri": "https://localhost:8080/",
          "height": 197
        },
        "id": "0bNkGSnfPJoU",
        "outputId": "117ecc33-cef6-4528-c9bf-2fca3a771482"
      },
      "source": [
        "# Scatter plot of the data points\n",
        "import matplotlib.pyplot as plt\n",
        "\n",
        "fig, ax = plt.subplots(2, 5, figsize=(8, 3))\n",
        "centers = kmeans.cluster_centers_.reshape(10, 6, 5)\n",
        "for axi, center in zip(ax.flat, centers):\n",
        "  axi.set(xticks=[], yticks=[])\n",
        "  axi.imshow(center, interpolation='nearest', cmap=plt.cm.binary)"
      ],
      "execution_count": null,
      "outputs": [
        {
          "output_type": "display_data",
          "data": {
            "image/png": "[encoded data removed]",
            "text/plain": [
              "<Figure size 576x216 with 10 Axes>"
            ]
          },
          "metadata": {}
        }
      ]
    },
    {
      "cell_type": "code",
      "metadata": {
        "id": "Ma5Ejh2yPQ5n"
      },
      "source": [
        "import numpy as np\n",
        "from scipy.stats import mode\n",
        "\n",
        "labels = np.zeros_like(prediction)\n",
        "for i in range(10):\n",
        "  mask = (prediction == i)\n",
        "  labels[mask] = mode(dataset.target[mask])[0]"
      ],
      "execution_count": null,
      "outputs": []
    },
    {
      "cell_type": "code",
      "metadata": {
        "colab": {
          "base_uri": "https://localhost:8080/"
        },
        "id": "fZXmglUyPXf4",
        "outputId": "12cf6456-8dad-4e1a-b1e2-e42764bd9c6c"
      },
      "source": [
        "from sklearn.metrics import accuracy_score\n",
        "\n",
        "accuracy_score(dataset.target, labels)"
      ],
      "execution_count": null,
      "outputs": [
        {
          "output_type": "execute_result",
          "data": {
            "text/plain": [
              "0.9086115992970123"
            ]
          },
          "metadata": {},
          "execution_count": 20
        }
      ]
    },
    {
      "cell_type": "code",
      "metadata": {
        "colab": {
          "base_uri": "https://localhost:8080/",
          "height": 279
        },
        "id": "0qdiYvYfPaN-",
        "outputId": "23af4d5c-e02f-464d-a47d-da0f18ecd1c4"
      },
      "source": [
        "from sklearn.metrics import confusion_matrix\n",
        "import seaborn as sns\n",
        "mat = confusion_matrix(dataset.target, labels)\n",
        "ax = sns.heatmap(mat.T, square=True, annot=True, fmt='d', cbar=False,xticklabels=dataset.target_names,yticklabels=dataset.target_names)\n",
        "\n",
        "#ax.set_ylim(10,10)\n",
        "plt.xlabel('true label')\n",
        "plt.ylabel('predicted label');"
      ],
      "execution_count": null,
      "outputs": [
        {
          "output_type": "display_data",
          "data": {
            "image/png": "[encoded data removed]",
            "text/plain": [
              "<Figure size 432x288 with 1 Axes>"
            ]
          },
          "metadata": {
            "needs_background": "light"
          }
        }
      ]
    }
  ]
}