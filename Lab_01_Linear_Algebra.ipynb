{
  "nbformat": 4,
  "nbformat_minor": 0,
  "metadata": {
    "colab": {
      "name": "Lab_01_Linear_Algebra.ipynb",
      "provenance": [],
      "collapsed_sections": [],
      "authorship_tag": "ABX9TyP+THe01wii0y59KX1bTWGw",
      "include_colab_link": true
    },
    "kernelspec": {
      "name": "python3",
      "display_name": "Python 3"
    },
    "language_info": {
      "name": "python"
    }
  },
  "cells": [
    {
      "cell_type": "markdown",
      "metadata": {
        "id": "view-in-github",
        "colab_type": "text"
      },
      "source": [
        "<a href=\"https://colab.research.google.com/github/dnhirapara/049_DarshikHirapara/blob/main/Lab_01_Linear_Algebra.ipynb\" target=\"_parent\"><img src=\"https://colab.research.google.com/assets/colab-badge.svg\" alt=\"Open In Colab\"/></a>"
      ]
    },
    {
      "cell_type": "code",
      "metadata": {
        "colab": {
          "base_uri": "https://localhost:8080/"
        },
        "id": "IvI6z4aF1lic",
        "outputId": "7b3b282e-9f3f-402b-8172-d2840f42f0f5"
      },
      "source": [
        "from google.colab import drive\n",
        "drive.mount('/content/drive')"
      ],
      "execution_count": null,
      "outputs": [
        {
          "output_type": "stream",
          "name": "stdout",
          "text": [
            "Mounted at /content/drive\n"
          ]
        }
      ]
    },
    {
      "cell_type": "code",
      "metadata": {
        "id": "yHx3cVjvKE7u"
      },
      "source": [
        "import pandas as pd\n",
        "import numpy as np"
      ],
      "execution_count": null,
      "outputs": []
    },
    {
      "cell_type": "code",
      "metadata": {
        "colab": {
          "base_uri": "https://localhost:8080/"
        },
        "id": "Ct8FdSXDKhfm",
        "outputId": "7aa46726-7111-47a7-aab9-fbde8d73b2c5"
      },
      "source": [
        "# two matrices\n",
        "arr1 = np.array([[1, 2, 3], [4, 5, 6]])\n",
        "arr2 = np.array([[2, 3], [5, 7], [11, 13]])\n",
        "print(arr1)\n",
        "print(arr2)"
      ],
      "execution_count": null,
      "outputs": [
        {
          "output_type": "stream",
          "name": "stdout",
          "text": [
            "[[1 2 3]\n",
            " [4 5 6]]\n",
            "[[ 2  3]\n",
            " [ 5  7]\n",
            " [11 13]]\n"
          ]
        }
      ]
    },
    {
      "cell_type": "code",
      "metadata": {
        "colab": {
          "base_uri": "https://localhost:8080/"
        },
        "id": "jM868BFqLiUb",
        "outputId": "1258cc17-5f59-4537-be4b-5b60fd90c4dd"
      },
      "source": [
        "# Randomly Initalize that array\n",
        "arr3 = np.random.rand(3, 4)\n",
        "print(arr3)"
      ],
      "execution_count": null,
      "outputs": [
        {
          "output_type": "stream",
          "name": "stdout",
          "text": [
            "[[0.67732752 0.89444855 0.75374491 0.15666318]\n",
            " [0.18257976 0.74837981 0.90157672 0.29441459]\n",
            " [0.68302808 0.81336901 0.96874464 0.13336037]]\n"
          ]
        }
      ]
    },
    {
      "cell_type": "code",
      "metadata": {
        "colab": {
          "base_uri": "https://localhost:8080/"
        },
        "id": "7XyE6qm-RCdO",
        "outputId": "2354b7be-97b9-4af3-d555-25bcc362a6c6"
      },
      "source": [
        "# Perform matrix multiplication\n",
        "res = np.dot(arr1, arr2)\n",
        "print(res)"
      ],
      "execution_count": null,
      "outputs": [
        {
          "output_type": "stream",
          "name": "stdout",
          "text": [
            "[[ 45  56]\n",
            " [ 99 125]]\n"
          ]
        }
      ]
    },
    {
      "cell_type": "code",
      "metadata": {
        "colab": {
          "base_uri": "https://localhost:8080/"
        },
        "id": "6xakvi2Iw3Wx",
        "outputId": "2d541bc0-11b1-4e50-c658-0839304fc242"
      },
      "source": [
        "# Perform elementwise matrix multiplication\n",
        "res = np.zeros((len(arr1), len(arr2[0])))\n",
        "for i in range(len(arr1)):\n",
        "    for j in range(len(arr2[0])):\n",
        "        for k in range(len(arr2)):\n",
        "            res[i][j] += arr1[i][k] * arr2[k][j]\n",
        "print(res)"
      ],
      "execution_count": null,
      "outputs": [
        {
          "output_type": "stream",
          "name": "stdout",
          "text": [
            "[[ 45.  56.]\n",
            " [ 99. 125.]]\n"
          ]
        }
      ]
    },
    {
      "cell_type": "code",
      "metadata": {
        "colab": {
          "base_uri": "https://localhost:8080/"
        },
        "id": "54vNpGItxHS1",
        "outputId": "90c226d6-2499-4bbb-b0a8-11f7561379a4"
      },
      "source": [
        "# Find mean of first matrix\n",
        "res = np.mean(arr1)\n",
        "print(res)"
      ],
      "execution_count": null,
      "outputs": [
        {
          "output_type": "stream",
          "name": "stdout",
          "text": [
            "3.5\n"
          ]
        }
      ]
    },
    {
      "cell_type": "code",
      "metadata": {
        "colab": {
          "base_uri": "https://localhost:8080/"
        },
        "id": "u7c5eriA1cEw",
        "outputId": "aeacf54b-8450-404a-c1da-82dc64815c44"
      },
      "source": [
        "# Convert Numeric entries(columns) of mtcars.csv to Mean Centered Version\n",
        "\n",
        "data = pd.read_csv(\"/content/drive/MyDrive/ML_Labs/lab1/mtcars.csv\")\n",
        "del data['model']\n",
        "mean_center = data.apply(lambda ele: ele - ele.mean())\n",
        "print(mean_center.head())"
      ],
      "execution_count": null,
      "outputs": [
        {
          "output_type": "stream",
          "name": "stdout",
          "text": [
            "        mpg     cyl        disp       hp  ...      vs       am    gear    carb\n",
            "0  0.909375 -0.1875  -70.721875 -36.6875  ... -0.4375  0.59375  0.3125  1.1875\n",
            "1  0.909375 -0.1875  -70.721875 -36.6875  ... -0.4375  0.59375  0.3125  1.1875\n",
            "2  2.709375 -2.1875 -122.721875 -53.6875  ...  0.5625  0.59375  0.3125 -1.8125\n",
            "3  1.309375 -0.1875   27.278125 -36.6875  ...  0.5625 -0.40625 -0.6875 -1.8125\n",
            "4 -1.390625  1.8125  129.278125  28.3125  ... -0.4375 -0.40625 -0.6875 -0.8125\n",
            "\n",
            "[5 rows x 11 columns]\n"
          ]
        }
      ]
    }
  ]
}