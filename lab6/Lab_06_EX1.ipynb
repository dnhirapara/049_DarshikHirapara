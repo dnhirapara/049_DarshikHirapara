{
  "nbformat": 4,
  "nbformat_minor": 0,
  "metadata": {
    "colab": {
      "name": "Lab_06_EX1.ipynb",
      "provenance": [],
      "collapsed_sections": [],
      "authorship_tag": "ABX9TyNyaX5JtWbQYuusONZiinW7",
      "include_colab_link": true
    },
    "kernelspec": {
      "display_name": "Python 3",
      "name": "python3"
    },
    "language_info": {
      "name": "python"
    }
  },
  "cells": [
    {
      "cell_type": "markdown",
      "metadata": {
        "id": "view-in-github",
        "colab_type": "text"
      },
      "source": [
        "<a href=\"https://colab.research.google.com/github/dnhirapara/049_DarshikHirapara/blob/main/lab6/Lab_06_EX1.ipynb\" target=\"_parent\"><img src=\"https://colab.research.google.com/assets/colab-badge.svg\" alt=\"Open In Colab\"/></a>"
      ]
    },
    {
      "cell_type": "code",
      "metadata": {
        "colab": {
          "base_uri": "https://localhost:8080/"
        },
        "id": "9Ye6q0Ir8sIT",
        "outputId": "40440f02-a446-4900-fd79-156f9345b26a"
      },
      "source": [
        "from google.colab import drive\n",
        "drive.mount(\"/content/drive\")"
      ],
      "execution_count": null,
      "outputs": [
        {
          "output_type": "stream",
          "name": "stdout",
          "text": [
            "Mounted at /content/drive\n"
          ]
        }
      ]
    },
    {
      "cell_type": "code",
      "metadata": {
        "id": "wJGfGqVd88_i"
      },
      "source": [
        "import numpy as np \n",
        "import pandas as pd \n",
        "import io\n",
        "import matplotlib.pyplot as plt"
      ],
      "execution_count": null,
      "outputs": []
    },
    {
      "cell_type": "code",
      "metadata": {
        "colab": {
          "base_uri": "https://localhost:8080/",
          "height": 203
        },
        "id": "ROsQ3p769Fda",
        "outputId": "414bb519-2af4-435b-f90a-1f0a2d982c38"
      },
      "source": [
        "# reading the csv file, del 2 columns from the file, checking first few rows of the file\n",
        "data = pd.read_csv('/content/drive/MyDrive/ML_Labs/lab6/BuyComputer.csv')\n",
        "\n",
        "data.drop(columns=['User ID',],axis=1,inplace=True)\n",
        "data.head()"
      ],
      "execution_count": null,
      "outputs": [
        {
          "output_type": "execute_result",
          "data": {
            "text/html": [
              "<div>\n",
              "<style scoped>\n",
              "    .dataframe tbody tr th:only-of-type {\n",
              "        vertical-align: middle;\n",
              "    }\n",
              "\n",
              "    .dataframe tbody tr th {\n",
              "        vertical-align: top;\n",
              "    }\n",
              "\n",
              "    .dataframe thead th {\n",
              "        text-align: right;\n",
              "    }\n",
              "</style>\n",
              "<table border=\"1\" class=\"dataframe\">\n",
              "  <thead>\n",
              "    <tr style=\"text-align: right;\">\n",
              "      <th></th>\n",
              "      <th>Age</th>\n",
              "      <th>EstimatedSalary</th>\n",
              "      <th>Purchased</th>\n",
              "    </tr>\n",
              "  </thead>\n",
              "  <tbody>\n",
              "    <tr>\n",
              "      <th>0</th>\n",
              "      <td>19</td>\n",
              "      <td>19000</td>\n",
              "      <td>0</td>\n",
              "    </tr>\n",
              "    <tr>\n",
              "      <th>1</th>\n",
              "      <td>35</td>\n",
              "      <td>20000</td>\n",
              "      <td>0</td>\n",
              "    </tr>\n",
              "    <tr>\n",
              "      <th>2</th>\n",
              "      <td>26</td>\n",
              "      <td>43000</td>\n",
              "      <td>0</td>\n",
              "    </tr>\n",
              "    <tr>\n",
              "      <th>3</th>\n",
              "      <td>27</td>\n",
              "      <td>57000</td>\n",
              "      <td>0</td>\n",
              "    </tr>\n",
              "    <tr>\n",
              "      <th>4</th>\n",
              "      <td>19</td>\n",
              "      <td>76000</td>\n",
              "      <td>0</td>\n",
              "    </tr>\n",
              "  </tbody>\n",
              "</table>\n",
              "</div>"
            ],
            "text/plain": [
              "   Age  EstimatedSalary  Purchased\n",
              "0   19            19000          0\n",
              "1   35            20000          0\n",
              "2   26            43000          0\n",
              "3   27            57000          0\n",
              "4   19            76000          0"
            ]
          },
          "metadata": {},
          "execution_count": 5
        }
      ]
    },
    {
      "cell_type": "code",
      "metadata": {
        "id": "N3ZkoHtL-Olf"
      },
      "source": [
        "#Declare label as last column in the source file\n",
        "Y = data.iloc[:,2].values\n",
        "# print(Y)"
      ],
      "execution_count": null,
      "outputs": []
    },
    {
      "cell_type": "code",
      "metadata": {
        "id": "LsobHYFt-UWD"
      },
      "source": [
        "#Declaring X as all columns excluding last\n",
        "X = data.iloc[:,:2].values\n",
        "# print(X)"
      ],
      "execution_count": null,
      "outputs": []
    },
    {
      "cell_type": "code",
      "metadata": {
        "id": "mNkzv8LI-WLL"
      },
      "source": [
        "# Splitting data\n",
        "from sklearn.model_selection import train_test_split\n",
        "X_train, X_test, y_train, y_test = train_test_split(X, Y, test_size = 0.30, random_state = 49)"
      ],
      "execution_count": null,
      "outputs": []
    },
    {
      "cell_type": "code",
      "metadata": {
        "id": "vqxxMF18VfmU"
      },
      "source": [
        "# Sacaling data\n",
        "from sklearn.preprocessing import StandardScaler\n",
        "sc = StandardScaler()\n",
        "X_train = sc.fit_transform(X_train)\n",
        "X_test = sc.transform(X_test)"
      ],
      "execution_count": null,
      "outputs": []
    },
    {
      "cell_type": "code",
      "metadata": {
        "colab": {
          "base_uri": "https://localhost:8080/"
        },
        "id": "-w_U0PZ1VilD",
        "outputId": "771bf3f8-0ef5-4916-e6ec-59276482efb6"
      },
      "source": [
        "#Variabes to calculate sigmoid function\n",
        "y_pred = []\n",
        "len_x = len(X_train[0])\n",
        "w = []\n",
        "b = 0.2\n",
        "print(len_x)"
      ],
      "execution_count": null,
      "outputs": [
        {
          "output_type": "stream",
          "name": "stdout",
          "text": [
            "2\n"
          ]
        }
      ]
    },
    {
      "cell_type": "code",
      "metadata": {
        "colab": {
          "base_uri": "https://localhost:8080/"
        },
        "id": "UskAbgCfWMge",
        "outputId": "e88e2aa6-7aa6-41c4-e812-a0265bb0347c"
      },
      "source": [
        "entries = len(X_train[:,0])\n",
        "entries"
      ],
      "execution_count": null,
      "outputs": [
        {
          "output_type": "execute_result",
          "data": {
            "text/plain": [
              "280"
            ]
          },
          "metadata": {},
          "execution_count": 15
        }
      ]
    },
    {
      "cell_type": "code",
      "metadata": {
        "colab": {
          "base_uri": "https://localhost:8080/"
        },
        "id": "6PaxvY1TWN_N",
        "outputId": "b2d7e537-e13d-4b74-e5e8-2e0d6cf55acc"
      },
      "source": [
        "for weights in range(len_x):\n",
        "    w.append(0)\n",
        "w"
      ],
      "execution_count": null,
      "outputs": [
        {
          "output_type": "execute_result",
          "data": {
            "text/plain": [
              "[0, 0]"
            ]
          },
          "metadata": {},
          "execution_count": 16
        }
      ]
    },
    {
      "cell_type": "code",
      "metadata": {
        "id": "bN4EcCIlWQd8"
      },
      "source": [
        "# Sigmoid function\n",
        "def sigmoid(z):\n",
        "  return 1/(1 + np.exp(-z))"
      ],
      "execution_count": null,
      "outputs": []
    },
    {
      "cell_type": "code",
      "metadata": {
        "id": "BY-KLKTWWSwv"
      },
      "source": [
        "def predict(inputs):\n",
        "    return sigmoid(np.dot(w,inputs)+b)"
      ],
      "execution_count": null,
      "outputs": []
    },
    {
      "cell_type": "code",
      "metadata": {
        "id": "8zd6aHEfWUYt"
      },
      "source": [
        "#Loss function\n",
        "def loss_func(y,a):\n",
        "    J = -(y*np.log(a) + (1-y)*np.log(1-a))\n",
        "    return J"
      ],
      "execution_count": null,
      "outputs": []
    },
    {
      "cell_type": "code",
      "metadata": {
        "id": "DARqMHbNWVp1"
      },
      "source": [
        "dw = []\n",
        "db = 0\n",
        "J = 0\n",
        "alpha = 0.1\n",
        "for x in range(len_x):\n",
        "    dw.append(0)"
      ],
      "execution_count": null,
      "outputs": []
    },
    {
      "cell_type": "code",
      "metadata": {
        "id": "xJvqgGzQWYQ2"
      },
      "source": [
        "#Repeating the process 3000 times\n",
        "for iterations in range(3000):\n",
        "    for i in range(entries):\n",
        "        localx = X_train[i]\n",
        "        a = predict(localx)\n",
        "        dz = a - y_train[i]\n",
        "        J += loss_func(y_train[i],a)\n",
        "        for j in range(len_x):\n",
        "            dw[j] = dw[j]+(localx[j]*dz)\n",
        "        db += dz\n",
        "    J = J/entries\n",
        "    db = db/entries\n",
        "    for x in range(len_x):\n",
        "        dw[x]=dw[x]/entries\n",
        "    for x in range(len_x):\n",
        "        w[x] = w[x]-(alpha*dw[x])\n",
        "    b = b-(alpha*db)         \n",
        "    J=0"
      ],
      "execution_count": null,
      "outputs": []
    },
    {
      "cell_type": "code",
      "metadata": {
        "colab": {
          "base_uri": "https://localhost:8080/"
        },
        "id": "D9X3Mu2wYdRF",
        "outputId": "302b04c6-9871-45ad-e793-5766eb44413c"
      },
      "source": [
        "#Print weight\n",
        "print(w)"
      ],
      "execution_count": null,
      "outputs": [
        {
          "output_type": "stream",
          "name": "stdout",
          "text": [
            "[2.490540118863297, 1.1290323612911046]\n"
          ]
        }
      ]
    },
    {
      "cell_type": "code",
      "metadata": {
        "colab": {
          "base_uri": "https://localhost:8080/"
        },
        "id": "PTCiJhVxYe6k",
        "outputId": "8833994b-6497-45fa-d9a5-84805db112f6"
      },
      "source": [
        "#print bias\n",
        "print(b)"
      ],
      "execution_count": null,
      "outputs": [
        {
          "output_type": "stream",
          "name": "stdout",
          "text": [
            "-1.3398189475113318\n"
          ]
        }
      ]
    },
    {
      "cell_type": "code",
      "metadata": {
        "id": "76X-ZH8EYgOb"
      },
      "source": [
        "#predicting the label\n",
        "for x in range(len(y_test)):\n",
        "    y_pred.append(predict(X_test[x]))"
      ],
      "execution_count": null,
      "outputs": []
    },
    {
      "cell_type": "code",
      "metadata": {
        "id": "yaTYqTQAYjGm"
      },
      "source": [
        "#print actual and predicted values in a table\n",
        "for x in range(len(y_pred)):\n",
        "    #print('Actual ',y_test[x],' Predicted ',y_pred[x])\n",
        "    if y_pred[x]>=0.5:\n",
        "        y_pred[x]=1\n",
        "    else:\n",
        "        y_pred[x]=0"
      ],
      "execution_count": null,
      "outputs": []
    },
    {
      "cell_type": "code",
      "metadata": {
        "colab": {
          "base_uri": "https://localhost:8080/"
        },
        "id": "P5VORNsoYjgG",
        "outputId": "a71a9f65-4ecd-4b72-eb46-dc761d94c3d2"
      },
      "source": [
        "# Fitting Logistic Regression to the Training set\n",
        "from sklearn.linear_model import LogisticRegression\n",
        "LR = LogisticRegression(random_state = 49)\n",
        "\n",
        "#Fit\n",
        "LR.fit(X_train, y_train)\n",
        "\n",
        "#predicting the test label with LR. Predict always takes X as input\n",
        "y_predLR=LR.predict(X_test)\n",
        "#y_predLR\n",
        "prediction_count = 0\n",
        "for x in range(len(y_pred)):\n",
        "    if(y_pred[x]==y_test[x]):\n",
        "        prediction_count=prediction_count+1\n",
        "print('Accuracy:',(prediction_count/(len(y_pred)))*100)"
      ],
      "execution_count": null,
      "outputs": [
        {
          "output_type": "stream",
          "name": "stdout",
          "text": [
            "Accuracy: 79.16666666666666\n"
          ]
        }
      ]
    }
  ]
}