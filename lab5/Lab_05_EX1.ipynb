{
  "nbformat": 4,
  "nbformat_minor": 0,
  "metadata": {
    "colab": {
      "name": "Lab_05_EX1.ipynb",
      "provenance": [],
      "authorship_tag": "ABX9TyMfCLPhFAiOJJyHpHy6OesV",
      "include_colab_link": true
    },
    "kernelspec": {
      "name": "python3",
      "display_name": "Python 3"
    },
    "language_info": {
      "name": "python"
    }
  },
  "cells": [
    {
      "cell_type": "markdown",
      "metadata": {
        "id": "view-in-github",
        "colab_type": "text"
      },
      "source": [
        "<a href=\"https://colab.research.google.com/github/dnhirapara/049_DarshikHirapara/blob/main/lab5/Lab_05_EX1.ipynb\" target=\"_parent\"><img src=\"https://colab.research.google.com/assets/colab-badge.svg\" alt=\"Open In Colab\"/></a>"
      ]
    },
    {
      "cell_type": "code",
      "metadata": {
        "colab": {
          "base_uri": "https://localhost:8080/"
        },
        "id": "js624jFIZW9K",
        "outputId": "5bc85baa-7e9e-45d1-9dbe-bea09d7595d0"
      },
      "source": [
        "from google.colab import drive\n",
        "drive.mount(\"/content/drive\")"
      ],
      "execution_count": 1,
      "outputs": [
        {
          "output_type": "stream",
          "name": "stdout",
          "text": [
            "Mounted at /content/drive\n"
          ]
        }
      ]
    },
    {
      "cell_type": "code",
      "metadata": {
        "id": "dDDm8yDdZ4AD"
      },
      "source": [
        "import numpy as np\n",
        "\n",
        "# Input (temp, rainfall, humidity)\n",
        "inputs = np.array([[73, 67, 43], [91, 88, 64], [87, 134, 58], [102, 43, 37], [69, 96, 70], [73, 67, 43], [91, 88, 64], [87, 134, 58], [102, 43, 37], [69, 96, 70], [73, 67, 43], [91, 88, 64], [87, 134, 58], [102, 43, 37], [69, 96, 70]], dtype='float32')\n",
        "# Targets (apples)\n",
        "# only for apples\n",
        "targets = np.array([[56], [81], [119], [22], [103], \n",
        "                    [56], [81], [119], [22], [103], \n",
        "                    [56], [81], [119], [22], [103]], dtype='float32')"
      ],
      "execution_count": 3,
      "outputs": []
    },
    {
      "cell_type": "code",
      "metadata": {
        "colab": {
          "base_uri": "https://localhost:8080/"
        },
        "id": "9uXJLQIvbFY8",
        "outputId": "58bad2e0-49e6-4c66-ac77-c971967e7fd9"
      },
      "source": [
        "mu = np.mean(inputs, 0)\n",
        "sigma = np.std(inputs, 0)\n",
        "#normalizing the input\n",
        "X = (inputs-mu) / sigma\n",
        "X = np.hstack((np.ones((targets.size,1)),X))\n",
        "print(X.shape)"
      ],
      "execution_count": 4,
      "outputs": [
        {
          "output_type": "stream",
          "name": "stdout",
          "text": [
            "(15, 4)\n"
          ]
        }
      ]
    },
    {
      "cell_type": "code",
      "metadata": {
        "colab": {
          "base_uri": "https://localhost:8080/"
        },
        "id": "NPtxHpQfbHy4",
        "outputId": "00cdb6db-ae1c-46cb-dd2d-91cf9f3cbf81"
      },
      "source": [
        "# Weights and biases\n",
        "rg = np.random.default_rng(12)\n",
        "w = rg.random((1, 4))\n",
        "print(w)"
      ],
      "execution_count": 5,
      "outputs": [
        {
          "output_type": "stream",
          "name": "stdout",
          "text": [
            "[[0.25082446 0.94675294 0.18932038 0.17929141]]\n"
          ]
        }
      ]
    },
    {
      "cell_type": "code",
      "metadata": {
        "id": "jL114kkcbLS7"
      },
      "source": [
        "# MSE loss function\n",
        "def mse(t1, t2):\n",
        "    diff = t1 - t2\n",
        "    return np.sum(diff * diff) / diff.size"
      ],
      "execution_count": 6,
      "outputs": []
    },
    {
      "cell_type": "code",
      "metadata": {
        "colab": {
          "base_uri": "https://localhost:8080/"
        },
        "id": "qhyETJchbN1S",
        "outputId": "28177a69-2686-44fe-82ca-3c0e49cc3c70"
      },
      "source": [
        "# Define the model\n",
        "def model(x,w):\n",
        "    return x @ w.T\n",
        "\n",
        "# Compute error\n",
        "preds = model(X,w)\n",
        "cost_initial = mse(preds, targets)\n",
        "print(\"before regression cost is : \", cost_initial)"
      ],
      "execution_count": 7,
      "outputs": [
        {
          "output_type": "stream",
          "name": "stdout",
          "text": [
            "before regression cost is :  6961.124339563164\n"
          ]
        }
      ]
    },
    {
      "cell_type": "code",
      "metadata": {
        "id": "8F_Oolg8bZtr"
      },
      "source": [
        "def gradient_descent(X, y, w, learning_rate, n_iters):\n",
        "    history = np.zeros((n_iters, 1))\n",
        "    for i in range(n_iters):\n",
        "        h = model(X, w)\n",
        "        diff = h - y\n",
        "        delta = (learning_rate / targets.size) * (X.T@diff)\n",
        "        new_w = w - delta.T\n",
        "        w = new_w\n",
        "        history[i] = mse(h, y)\n",
        "    return (history, w)"
      ],
      "execution_count": 8,
      "outputs": []
    },
    {
      "cell_type": "code",
      "metadata": {
        "colab": {
          "base_uri": "https://localhost:8080/"
        },
        "id": "c5O_J4yebb1w",
        "outputId": "d2b12a80-83c7-481a-8c4c-d8a2effa2817"
      },
      "source": [
        "import matplotlib.pyplot as plt\n",
        "n_iters = 300\n",
        "learning_rate = 0.01\n",
        "\n",
        "initial_cost = mse(model(X, w),targets)\n",
        "\n",
        "print(\"intial cost is: \", initial_cost, \"\\n\")\n",
        "\n",
        "(history, optimal_params) = gradient_descent(X, targets, w, learning_rate, n_iters)\n",
        "\n",
        "print(\"optimal parameters are: \\n\", optimal_params, \"\\n\")\n",
        "\n",
        "print(\"final cost is: \", history[-1])"
      ],
      "execution_count": 9,
      "outputs": [
        {
          "output_type": "stream",
          "name": "stdout",
          "text": [
            "intial cost is:  6961.124339563164 \n",
            "\n",
            "optimal parameters are: \n",
            " [[72.47538457 -4.56955672 22.26530505 11.97423481]] \n",
            "\n",
            "final cost is:  [22.16001858]\n"
          ]
        }
      ]
    },
    {
      "cell_type": "code",
      "metadata": {
        "colab": {
          "base_uri": "https://localhost:8080/",
          "height": 295
        },
        "id": "RT1KFArcbeF5",
        "outputId": "d29da65f-ad40-4b9a-e777-5cbf8b9a8e42"
      },
      "source": [
        "import matplotlib.pyplot as plt\n",
        "\n",
        "\n",
        "plt.plot(range(len(history)), history, 'g')\n",
        "\n",
        "plt.title(\"Convergence Graph of Cost Function\")\n",
        "plt.xlabel(\"Number of Iterations\")\n",
        "plt.ylabel(\"Cost\")\n",
        "plt.show()"
      ],
      "execution_count": 10,
      "outputs": [
        {
          "output_type": "display_data",
          "data": {
            "image/png": "[encoded data removed]",
            "text/plain": [
              "<Figure size 432x288 with 1 Axes>"
            ]
          },
          "metadata": {
            "needs_background": "light"
          }
        }
      ]
    },
    {
      "cell_type": "code",
      "metadata": {
        "colab": {
          "base_uri": "https://localhost:8080/"
        },
        "id": "CgyWHNznbgwK",
        "outputId": "2f58a1ef-eed0-4897-d25b-73fbb7f47c59"
      },
      "source": [
        "# Calculate error\n",
        "preds = model(X, optimal_params)\n",
        "cost_final = mse(preds, targets)\n",
        "# Print predictions\n",
        "print(\"Prediction:\\n\",preds)\n",
        "# Comparing predicted with targets\n",
        "print(\"Targets:\\n\", targets)"
      ],
      "execution_count": 11,
      "outputs": [
        {
          "output_type": "stream",
          "name": "stdout",
          "text": [
            "Prediction:\n",
            " [[ 52.245906  ]\n",
            " [ 80.92958084]\n",
            " [110.40144414]\n",
            " [ 17.92507526]\n",
            " [100.87491688]\n",
            " [ 52.245906  ]\n",
            " [ 80.92958084]\n",
            " [110.40144414]\n",
            " [ 17.92507526]\n",
            " [100.87491688]\n",
            " [ 52.245906  ]\n",
            " [ 80.92958084]\n",
            " [110.40144414]\n",
            " [ 17.92507526]\n",
            " [100.87491688]]\n",
            "Targets:\n",
            " [[ 56.]\n",
            " [ 81.]\n",
            " [119.]\n",
            " [ 22.]\n",
            " [103.]\n",
            " [ 56.]\n",
            " [ 81.]\n",
            " [119.]\n",
            " [ 22.]\n",
            " [103.]\n",
            " [ 56.]\n",
            " [ 81.]\n",
            " [119.]\n",
            " [ 22.]\n",
            " [103.]]\n"
          ]
        }
      ]
    },
    {
      "cell_type": "code",
      "metadata": {
        "colab": {
          "base_uri": "https://localhost:8080/"
        },
        "id": "cJF5lbDGbjZK",
        "outputId": "3011422d-ef7b-40be-bee0-5f4d3808200d"
      },
      "source": [
        "print(\"Cost after linear regression: \", cost_final)\n",
        "print(\"Cost reduction : {} %\".format(((cost_initial- cost_final) / cost_initial) * 100))"
      ],
      "execution_count": 12,
      "outputs": [
        {
          "output_type": "stream",
          "name": "stdout",
          "text": [
            "Cost after linear regression:  21.830866683064055\n",
            "Cost reduction : 99.68638878407917 %\n"
          ]
        }
      ]
    }
  ]
}